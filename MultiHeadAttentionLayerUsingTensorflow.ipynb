{
  "nbformat": 4,
  "nbformat_minor": 0,
  "metadata": {
    "colab": {
      "provenance": []
    },
    "kernelspec": {
      "name": "python3",
      "display_name": "Python 3"
    },
    "language_info": {
      "name": "python"
    }
  },
  "cells": [
    {
      "cell_type": "code",
      "execution_count": 37,
      "metadata": {
        "id": "F6hAPPquwqMD"
      },
      "outputs": [],
      "source": [
        "from tensorflow.keras.layers import Layer,Dense\n",
        "from tensorflow import matmul,math,cast,float32,reshape,shape,transpose\n",
        "from tensorflow.keras.backend import softmax\n",
        "class DotProductAttention(Layer):\n",
        "  def __init__(self,**kwargs):\n",
        "    super(DotProductAttention,self).__init__(**kwargs)\n",
        "  def call(self,queries,keys,values,d_k,mask=None):\n",
        "    score=matmul(queries,keys,transpose_b=True)/math.sqrt(cast(d_k,float32))\n",
        "    if mask is not None:\n",
        "      score+=-1e9*mask\n",
        "    weight=softmax(score)\n",
        "    return matmul(weight,values)\n",
        "class MultiHeadAttention(Layer):\n",
        "  def __init__(self,h,d_k,d_v,d_model,**kwargs):\n",
        "    super(MultiHeadAttention,self).__init__(**kwargs)\n",
        "    self.attention=DotProductAttention()\n",
        "    self.head=h\n",
        "    self.d_k=d_k\n",
        "    self.d_v=d_v\n",
        "    self.d_model=d_model\n",
        "    self.W_q=Dense(d_k)\n",
        "    self.W_k=Dense(d_k)\n",
        "    self.W_v=Dense(d_v)\n",
        "    self.W_o=Dense(d_model)\n",
        "  def reshape_tensor(self,x,head,flag):\n",
        "    if flag:\n",
        "      x=reshape(x,shape=(shape(x)[0],shape(x)[1],head,-1))\n",
        "      x=transpose(x,perm=(0,2,1,3))\n",
        "    else:\n",
        "      x=transpose(x,perm=(0,2,1,3))\n",
        "      x=reshape(x,shape=(shape(x)[0],shape(x)[1],self.d_k))\n",
        "    return x\n",
        "  def call(self,queries,keys,values,mask=None):\n",
        "    q_reshape=self.reshape_tensor(self.W_q(queries),self.head,True)\n",
        "    k_reshape=self.reshape_tensor(self.W_k(keys),self.head,True)\n",
        "    v_reshape=self.reshape_tensor(self.W_v(values),self.head,True)\n",
        "    o_reshape=self.attention(q_reshape,k_reshape,v_reshape,d_k=self.d_k,mask=mask)\n",
        "    output=self.reshape_tensor(o_reshape,self.head,False)\n",
        "    return self.W_o(output)"
      ]
    },
    {
      "cell_type": "code",
      "source": [
        "from numpy import random\n",
        "h=8\n",
        "batch_size=65\n",
        "input_seq_length=5\n",
        "d_model=512\n",
        "d_k=64\n",
        "d_v=64\n",
        "queries=random.random((batch_size,input_seq_length,d_k))\n",
        "keys=random.random((batch_size,input_seq_length,d_k))\n",
        "values=random.random((batch_size,input_seq_length,d_v))"
      ],
      "metadata": {
        "id": "etSvJwYAohL2"
      },
      "execution_count": 38,
      "outputs": []
    },
    {
      "cell_type": "code",
      "source": [
        "multiheadattention=MultiHeadAttention(h,d_k,d_v,d_model)\n",
        "multiheadattention(queries,keys,values)"
      ],
      "metadata": {
        "colab": {
          "base_uri": "https://localhost:8080/"
        },
        "id": "ErkaVZTEouKz",
        "outputId": "139b0ba0-274a-4573-ff6f-1d7028923292"
      },
      "execution_count": 39,
      "outputs": [
        {
          "output_type": "execute_result",
          "data": {
            "text/plain": [
              "<tf.Tensor: shape=(65, 5, 512), dtype=float32, numpy=\n",
              "array([[[-2.09929975e-04, -1.35063753e-01,  8.57737754e-03, ...,\n",
              "         -5.60619950e-01,  2.46605952e-04,  2.50632633e-02],\n",
              "        [-8.39318789e-04, -1.35312438e-01,  5.77640254e-03, ...,\n",
              "         -5.61561406e-01,  1.50563207e-03,  2.13867649e-02],\n",
              "        [-6.12106523e-04, -1.34001926e-01,  7.88539369e-03, ...,\n",
              "         -5.62368453e-01, -2.00813753e-04,  2.41375770e-02],\n",
              "        [ 1.02884864e-04, -1.33864313e-01,  7.87307229e-03, ...,\n",
              "         -5.62577963e-01,  1.62191840e-03,  2.34233178e-02],\n",
              "        [ 4.50047315e-04, -1.35322511e-01,  7.94218760e-03, ...,\n",
              "         -5.61856627e-01,  2.37617129e-03,  2.26644929e-02]],\n",
              "\n",
              "       [[ 7.61391744e-02, -1.24775805e-01,  4.18224074e-02, ...,\n",
              "         -4.08251643e-01, -1.65483616e-02,  2.77380459e-02],\n",
              "        [ 7.64259920e-02, -1.22853100e-01,  4.23289947e-02, ...,\n",
              "         -4.06363100e-01, -1.35547323e-02,  3.02770548e-02],\n",
              "        [ 7.73765147e-02, -1.24992512e-01,  4.11587618e-02, ...,\n",
              "         -4.06382442e-01, -1.35850459e-02,  3.25144604e-02],\n",
              "        [ 7.74606317e-02, -1.24695487e-01,  4.23979312e-02, ...,\n",
              "         -4.08381671e-01, -1.44904228e-02,  3.19460928e-02],\n",
              "        [ 7.65557066e-02, -1.23790503e-01,  4.05640006e-02, ...,\n",
              "         -4.09090787e-01, -1.11492323e-02,  2.99241245e-02]],\n",
              "\n",
              "       [[ 8.07202235e-02, -2.02594906e-01, -5.78246303e-02, ...,\n",
              "         -4.47011322e-01, -1.03189982e-01, -8.70440155e-02],\n",
              "        [ 8.14103708e-02, -2.02603057e-01, -5.75679690e-02, ...,\n",
              "         -4.47632968e-01, -1.01869226e-01, -8.90723690e-02],\n",
              "        [ 8.26307088e-02, -2.00691745e-01, -5.78489639e-02, ...,\n",
              "         -4.48103815e-01, -1.01793677e-01, -8.75321999e-02],\n",
              "        [ 8.36812630e-02, -2.05157056e-01, -5.81009276e-02, ...,\n",
              "         -4.48539555e-01, -1.04302727e-01, -8.82695019e-02],\n",
              "        [ 8.19277167e-02, -2.00430930e-01, -5.75982444e-02, ...,\n",
              "         -4.48717952e-01, -1.02122292e-01, -8.93441439e-02]],\n",
              "\n",
              "       ...,\n",
              "\n",
              "       [[ 4.25456986e-02, -1.72729746e-01, -2.77819857e-02, ...,\n",
              "         -4.81312990e-01,  3.03429319e-03,  1.32010141e-02],\n",
              "        [ 4.20673676e-02, -1.70794755e-01, -2.63001435e-02, ...,\n",
              "         -4.79445070e-01,  2.30920804e-03,  1.21345548e-02],\n",
              "        [ 4.32252325e-02, -1.73913658e-01, -2.72867456e-02, ...,\n",
              "         -4.80933428e-01,  2.02924712e-03,  1.08351372e-02],\n",
              "        [ 4.47303057e-02, -1.76159576e-01, -2.96437014e-02, ...,\n",
              "         -4.82807785e-01,  6.11074909e-04,  1.03846062e-02],\n",
              "        [ 4.62185666e-02, -1.73889369e-01, -2.90067103e-02, ...,\n",
              "         -4.83237982e-01, -2.42072088e-03,  1.09687252e-02]],\n",
              "\n",
              "       [[ 9.49077606e-02, -2.77743429e-01,  2.44092662e-02, ...,\n",
              "         -4.26775277e-01, -2.91232318e-02,  4.03441116e-02],\n",
              "        [ 9.58522931e-02, -2.78926790e-01,  2.21876968e-02, ...,\n",
              "         -4.27393556e-01, -3.13009433e-02,  3.79499048e-02],\n",
              "        [ 9.66406316e-02, -2.78234303e-01,  2.34294087e-02, ...,\n",
              "         -4.26620424e-01, -3.09024360e-02,  3.79086733e-02],\n",
              "        [ 9.69428122e-02, -2.81006098e-01,  2.34145895e-02, ...,\n",
              "         -4.26113307e-01, -2.98089236e-02,  4.27646935e-02],\n",
              "        [ 9.56194177e-02, -2.81240731e-01,  2.15809550e-02, ...,\n",
              "         -4.26041484e-01, -3.26705873e-02,  3.91215421e-02]],\n",
              "\n",
              "       [[ 6.38412386e-02, -1.81179494e-01, -6.84310077e-03, ...,\n",
              "         -4.52456206e-01,  6.42384663e-02,  7.03681037e-02],\n",
              "        [ 6.19635805e-02, -1.82353511e-01, -9.87624470e-03, ...,\n",
              "         -4.50476944e-01,  6.56306148e-02,  7.14256018e-02],\n",
              "        [ 6.24083430e-02, -1.80993855e-01, -9.59141552e-03, ...,\n",
              "         -4.51155961e-01,  6.34155199e-02,  6.76320568e-02],\n",
              "        [ 6.23027310e-02, -1.83030546e-01, -5.68396412e-03, ...,\n",
              "         -4.53973413e-01,  5.94419092e-02,  6.79174364e-02],\n",
              "        [ 6.15835413e-02, -1.82991549e-01, -8.54353700e-03, ...,\n",
              "         -4.51419771e-01,  6.32825866e-02,  6.54004365e-02]]],\n",
              "      dtype=float32)>"
            ]
          },
          "metadata": {},
          "execution_count": 39
        }
      ]
    },
    {
      "cell_type": "code",
      "source": [],
      "metadata": {
        "id": "aXLmVw4rvDBL"
      },
      "execution_count": null,
      "outputs": []
    }
  ]
}