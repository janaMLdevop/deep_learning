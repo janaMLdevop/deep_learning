{
 "cells": [
  {
   "cell_type": "code",
   "execution_count": 1,
   "id": "a56d57d6-0229-43c4-b672-e323bcb1579c",
   "metadata": {},
   "outputs": [],
   "source": [
    "import pandas as pd \n",
    "data=pd.read_csv('NER dataset.csv',encoding='latin-1')"
   ]
  },
  {
   "cell_type": "code",
   "execution_count": 2,
   "id": "9d624cc0-8431-4584-9f7f-34aa11416b00",
   "metadata": {},
   "outputs": [
    {
     "data": {
      "text/html": [
       "<div>\n",
       "<style scoped>\n",
       "    .dataframe tbody tr th:only-of-type {\n",
       "        vertical-align: middle;\n",
       "    }\n",
       "\n",
       "    .dataframe tbody tr th {\n",
       "        vertical-align: top;\n",
       "    }\n",
       "\n",
       "    .dataframe thead th {\n",
       "        text-align: right;\n",
       "    }\n",
       "</style>\n",
       "<table border=\"1\" class=\"dataframe\">\n",
       "  <thead>\n",
       "    <tr style=\"text-align: right;\">\n",
       "      <th></th>\n",
       "      <th>Sentence #</th>\n",
       "      <th>Word</th>\n",
       "      <th>POS</th>\n",
       "      <th>Tag</th>\n",
       "    </tr>\n",
       "  </thead>\n",
       "  <tbody>\n",
       "    <tr>\n",
       "      <th>0</th>\n",
       "      <td>Sentence: 1</td>\n",
       "      <td>Thousands</td>\n",
       "      <td>NNS</td>\n",
       "      <td>O</td>\n",
       "    </tr>\n",
       "    <tr>\n",
       "      <th>1</th>\n",
       "      <td>NaN</td>\n",
       "      <td>of</td>\n",
       "      <td>IN</td>\n",
       "      <td>O</td>\n",
       "    </tr>\n",
       "    <tr>\n",
       "      <th>2</th>\n",
       "      <td>NaN</td>\n",
       "      <td>demonstrators</td>\n",
       "      <td>NNS</td>\n",
       "      <td>O</td>\n",
       "    </tr>\n",
       "    <tr>\n",
       "      <th>3</th>\n",
       "      <td>NaN</td>\n",
       "      <td>have</td>\n",
       "      <td>VBP</td>\n",
       "      <td>O</td>\n",
       "    </tr>\n",
       "    <tr>\n",
       "      <th>4</th>\n",
       "      <td>NaN</td>\n",
       "      <td>marched</td>\n",
       "      <td>VBN</td>\n",
       "      <td>O</td>\n",
       "    </tr>\n",
       "  </tbody>\n",
       "</table>\n",
       "</div>"
      ],
      "text/plain": [
       "    Sentence #           Word  POS Tag\n",
       "0  Sentence: 1      Thousands  NNS   O\n",
       "1          NaN             of   IN   O\n",
       "2          NaN  demonstrators  NNS   O\n",
       "3          NaN           have  VBP   O\n",
       "4          NaN        marched  VBN   O"
      ]
     },
     "execution_count": 2,
     "metadata": {},
     "output_type": "execute_result"
    }
   ],
   "source": [
    "data.head()"
   ]
  },
  {
   "cell_type": "code",
   "execution_count": 3,
   "id": "d3a4b5d6-39bc-43a1-bdfb-32da5cb04386",
   "metadata": {},
   "outputs": [],
   "source": [
    "data['Sentence #']=data['Sentence #'].ffill()"
   ]
  },
  {
   "cell_type": "code",
   "execution_count": 4,
   "id": "d74c07d0-da9b-4bab-8e8a-547204b287b9",
   "metadata": {},
   "outputs": [],
   "source": [
    "class getsen(object):\n",
    "    def __init__(self,data):\n",
    "        self.n_word=1\n",
    "        self.data=data\n",
    "        self.empty=False\n",
    "        agg_fun=lambda s:[(w,t) for w,t in zip(s['Word'].values.tolist(),s['Tag'].values.tolist())]\n",
    "        self.grouped=self.data.groupby(\"Sentence #\").apply(agg_fun)\n",
    "        self.sentence=[s for s in self.grouped]"
   ]
  },
  {
   "cell_type": "code",
   "execution_count": 5,
   "id": "e3ac1b88-4c43-42f2-b8c0-20b739ef3689",
   "metadata": {},
   "outputs": [
    {
     "name": "stdout",
     "output_type": "stream",
     "text": [
      "[('Mr.', 'B-per'), ('Egeland', 'I-per'), ('said', 'O'), ('the', 'O'), ('latest', 'O'), ('figures', 'O'), ('show', 'O'), ('1.8', 'O'), ('million', 'O'), ('people', 'O'), ('are', 'O'), ('in', 'O'), ('need', 'O'), ('of', 'O'), ('food', 'O'), ('assistance', 'O'), ('-', 'O'), ('with', 'O'), ('the', 'O'), ('need', 'O'), ('greatest', 'O'), ('in', 'O'), ('Indonesia', 'B-tim'), (',', 'O'), ('Sri', 'B-per'), ('Lanka', 'B-gpe'), (',', 'O'), ('the', 'O'), ('Maldives', 'B-geo'), ('and', 'O'), ('India', 'B-geo'), ('.', 'O')]\n"
     ]
    }
   ],
   "source": [
    "getter=getsen(data)\n",
    "sentence=getter.sentence\n",
    "print(sentence[5])"
   ]
  },
  {
   "cell_type": "code",
   "execution_count": 6,
   "id": "9dab5c94-30ee-41c5-a870-b98a00f62d5f",
   "metadata": {},
   "outputs": [],
   "source": [
    "words=list(set(data[\"Word\"].values))\n",
    "words.append(\"ENDPAD\")"
   ]
  },
  {
   "cell_type": "code",
   "execution_count": 7,
   "id": "05a1bfd2-7093-426f-bd89-8669477f343e",
   "metadata": {},
   "outputs": [
    {
     "name": "stdout",
     "output_type": "stream",
     "text": [
      "['B-geo', 'I-geo', 'I-per', 'B-per', 'I-org', 'B-gpe', 'B-eve', 'I-nat', 'B-art', 'I-eve', 'O', 'I-tim', 'B-nat', 'B-org', 'I-gpe', 'B-tim', 'I-art']\n"
     ]
    }
   ],
   "source": [
    "from numpy import nan\n",
    "tags = []\n",
    "for tag in set(data[\"Tag\"].values):\n",
    "    if tag is nan or isinstance(tag, float):\n",
    "        tags.append('unk')\n",
    "    else:\n",
    "        tags.append(tag)\n",
    "print(tags)"
   ]
  },
  {
   "cell_type": "raw",
   "id": "32ba0fa6-8c6b-4e15-9455-226c13cd5868",
   "metadata": {},
   "source": [
    "word2idx={w:i for w in enumerate(word)}"
   ]
  },
  {
   "cell_type": "code",
   "execution_count": 8,
   "id": "d3635583-0a2a-453f-b18e-12e5fdaee58c",
   "metadata": {},
   "outputs": [],
   "source": [
    "word2idx={w:i for i,w in enumerate(words)}\n",
    "tag2idx={ w:i for i,w in enumerate(tags)}"
   ]
  },
  {
   "cell_type": "code",
   "execution_count": 9,
   "id": "45824a27-22ed-4a9e-a5a3-7a54f3b8de57",
   "metadata": {},
   "outputs": [
    {
     "data": {
      "text/plain": [
       "{'B-geo': 0,\n",
       " 'I-geo': 1,\n",
       " 'I-per': 2,\n",
       " 'B-per': 3,\n",
       " 'I-org': 4,\n",
       " 'B-gpe': 5,\n",
       " 'B-eve': 6,\n",
       " 'I-nat': 7,\n",
       " 'B-art': 8,\n",
       " 'I-eve': 9,\n",
       " 'O': 10,\n",
       " 'I-tim': 11,\n",
       " 'B-nat': 12,\n",
       " 'B-org': 13,\n",
       " 'I-gpe': 14,\n",
       " 'B-tim': 15,\n",
       " 'I-art': 16}"
      ]
     },
     "execution_count": 9,
     "metadata": {},
     "output_type": "execute_result"
    }
   ],
   "source": [
    "tag2idx"
   ]
  },
  {
   "cell_type": "code",
   "execution_count": 10,
   "id": "d8dbfac8-6ffb-4ecc-a48a-a68ec0cea37e",
   "metadata": {},
   "outputs": [],
   "source": [
    "x=[[[word2idx[i[0]]]for i in s ]for s in sentence]"
   ]
  },
  {
   "cell_type": "code",
   "execution_count": 11,
   "id": "5a60d078-9804-4b37-af93-dea13a63c9d7",
   "metadata": {},
   "outputs": [],
   "source": [
    "import tensorflow \n",
    "from tensorflow.keras.preprocessing.sequence import pad_sequences"
   ]
  },
  {
   "cell_type": "code",
   "execution_count": 12,
   "id": "0b8f8474-eae5-435d-891e-f7b22613f28f",
   "metadata": {},
   "outputs": [],
   "source": [
    "n_word=len(words)\n",
    "x=pad_sequences(maxlen=80,sequences=x,padding='post')"
   ]
  },
  {
   "cell_type": "code",
   "execution_count": 13,
   "id": "0e6d4bd1-2807-4529-b867-ef7744b17992",
   "metadata": {},
   "outputs": [
    {
     "data": {
      "text/plain": [
       "35179"
      ]
     },
     "execution_count": 13,
     "metadata": {},
     "output_type": "execute_result"
    }
   ],
   "source": [
    "n_word"
   ]
  },
  {
   "cell_type": "code",
   "execution_count": 14,
   "id": "b28dffef-fa06-4d1b-ab78-dcc29389fb09",
   "metadata": {},
   "outputs": [
    {
     "name": "stdout",
     "output_type": "stream",
     "text": [
      "[[10], [0], [10], [10], [10], [10], [10], [10], [10], [10], [10], [10], [10], [10], [13], [4], [10], [10], [0], [1], [10], [3], [10], [3], [2], [10], [10], [5], [10], [10], [10], [10], [10], [10], [10], [10], [10], [10], [10], [10]]\n"
     ]
    }
   ],
   "source": [
    "y_idx=[[ [tag2idx[w[1]]] for w in s] for s in sentence]\n",
    "print(y_idx[10])"
   ]
  },
  {
   "cell_type": "code",
   "execution_count": 15,
   "id": "dcd5fce1-c235-459d-b611-1617c04b029d",
   "metadata": {},
   "outputs": [],
   "source": [
    "y=pad_sequences(maxlen=80,sequences=y_idx,padding=\"post\")"
   ]
  },
  {
   "cell_type": "code",
   "execution_count": 17,
   "id": "efc0d6b4-d736-4447-b570-ae93fa95eb67",
   "metadata": {},
   "outputs": [],
   "source": [
    "from tensorflow.keras.utils import to_categorical\n",
    "num_tags=len(tags)\n",
    "y = [to_categorical(i, num_classes=num_tags) for i in y]\n"
   ]
  },
  {
   "cell_type": "code",
   "execution_count": 18,
   "id": "9de9293f-8ace-4859-9233-dc812cecbc97",
   "metadata": {},
   "outputs": [],
   "source": [
    "from sklearn.model_selection import train_test_split\n",
    "x_train,x_test,y_train,y_test=train_test_split(x,y,test_size=0.2)"
   ]
  },
  {
   "cell_type": "code",
   "execution_count": 19,
   "id": "02d4043d-3b30-4e50-9cf5-6270eb20a513",
   "metadata": {},
   "outputs": [],
   "source": [
    "from tensorflow.keras import Model, Input\n",
    "from tensorflow.keras.layers import LSTM, Embedding, Dense\n",
    "from tensorflow.keras.layers import TimeDistributed, SpatialDropout1D, Bidirectional"
   ]
  },
  {
   "cell_type": "code",
   "execution_count": 26,
   "id": "b39abc5c-aae8-4278-a346-0a18206ae6b3",
   "metadata": {},
   "outputs": [
    {
     "name": "stderr",
     "output_type": "stream",
     "text": [
      "C:\\Users\\vj75v\\anaconda3\\Lib\\site-packages\\keras\\src\\layers\\core\\embedding.py:90: UserWarning: Argument `input_length` is deprecated. Just remove it.\n",
      "  warnings.warn(\n"
     ]
    }
   ],
   "source": [
    "maxlen=80\n",
    "input_word=Input(shape=(maxlen,))\n",
    "model=Embedding(input_dim=n_word,output_dim=maxlen,input_length=maxlen)(input_word)\n",
    "model=SpatialDropout1D(0.1)(model)\n",
    "model=Bidirectional(LSTM(units=100,return_sequences=True,recurrent_dropout=0.1))(model)\n",
    "out=TimeDistributed(Dense(num_tags,activation='softmax'))(model)\n",
    "model=Model(input_word,out)"
   ]
  },
  {
   "cell_type": "code",
   "execution_count": 27,
   "id": "604ed586-5328-4b32-9607-6ba5d5e9a731",
   "metadata": {},
   "outputs": [
    {
     "data": {
      "text/html": [
       "<pre style=\"white-space:pre;overflow-x:auto;line-height:normal;font-family:Menlo,'DejaVu Sans Mono',consolas,'Courier New',monospace\"><span style=\"font-weight: bold\">Model: \"functional_1\"</span>\n",
       "</pre>\n"
      ],
      "text/plain": [
       "\u001b[1mModel: \"functional_1\"\u001b[0m\n"
      ]
     },
     "metadata": {},
     "output_type": "display_data"
    },
    {
     "data": {
      "text/html": [
       "<pre style=\"white-space:pre;overflow-x:auto;line-height:normal;font-family:Menlo,'DejaVu Sans Mono',consolas,'Courier New',monospace\">┏━━━━━━━━━━━━━━━━━━━━━━━━━━━━━━━━━━━━━━┳━━━━━━━━━━━━━━━━━━━━━━━━━━━━━┳━━━━━━━━━━━━━━━━━┓\n",
       "┃<span style=\"font-weight: bold\"> Layer (type)                         </span>┃<span style=\"font-weight: bold\"> Output Shape                </span>┃<span style=\"font-weight: bold\">         Param # </span>┃\n",
       "┡━━━━━━━━━━━━━━━━━━━━━━━━━━━━━━━━━━━━━━╇━━━━━━━━━━━━━━━━━━━━━━━━━━━━━╇━━━━━━━━━━━━━━━━━┩\n",
       "│ input_layer (<span style=\"color: #0087ff; text-decoration-color: #0087ff\">InputLayer</span>)             │ (<span style=\"color: #00d7ff; text-decoration-color: #00d7ff\">None</span>, <span style=\"color: #00af00; text-decoration-color: #00af00\">80</span>)                  │               <span style=\"color: #00af00; text-decoration-color: #00af00\">0</span> │\n",
       "├──────────────────────────────────────┼─────────────────────────────┼─────────────────┤\n",
       "│ embedding (<span style=\"color: #0087ff; text-decoration-color: #0087ff\">Embedding</span>)                │ (<span style=\"color: #00d7ff; text-decoration-color: #00d7ff\">None</span>, <span style=\"color: #00af00; text-decoration-color: #00af00\">80</span>, <span style=\"color: #00af00; text-decoration-color: #00af00\">80</span>)              │       <span style=\"color: #00af00; text-decoration-color: #00af00\">2,814,320</span> │\n",
       "├──────────────────────────────────────┼─────────────────────────────┼─────────────────┤\n",
       "│ spatial_dropout1d (<span style=\"color: #0087ff; text-decoration-color: #0087ff\">SpatialDropout1D</span>) │ (<span style=\"color: #00d7ff; text-decoration-color: #00d7ff\">None</span>, <span style=\"color: #00af00; text-decoration-color: #00af00\">80</span>, <span style=\"color: #00af00; text-decoration-color: #00af00\">80</span>)              │               <span style=\"color: #00af00; text-decoration-color: #00af00\">0</span> │\n",
       "├──────────────────────────────────────┼─────────────────────────────┼─────────────────┤\n",
       "│ bidirectional (<span style=\"color: #0087ff; text-decoration-color: #0087ff\">Bidirectional</span>)        │ (<span style=\"color: #00d7ff; text-decoration-color: #00d7ff\">None</span>, <span style=\"color: #00af00; text-decoration-color: #00af00\">80</span>, <span style=\"color: #00af00; text-decoration-color: #00af00\">200</span>)             │         <span style=\"color: #00af00; text-decoration-color: #00af00\">144,800</span> │\n",
       "├──────────────────────────────────────┼─────────────────────────────┼─────────────────┤\n",
       "│ time_distributed (<span style=\"color: #0087ff; text-decoration-color: #0087ff\">TimeDistributed</span>)   │ (<span style=\"color: #00d7ff; text-decoration-color: #00d7ff\">None</span>, <span style=\"color: #00af00; text-decoration-color: #00af00\">80</span>, <span style=\"color: #00af00; text-decoration-color: #00af00\">17</span>)              │           <span style=\"color: #00af00; text-decoration-color: #00af00\">3,417</span> │\n",
       "└──────────────────────────────────────┴─────────────────────────────┴─────────────────┘\n",
       "</pre>\n"
      ],
      "text/plain": [
       "┏━━━━━━━━━━━━━━━━━━━━━━━━━━━━━━━━━━━━━━┳━━━━━━━━━━━━━━━━━━━━━━━━━━━━━┳━━━━━━━━━━━━━━━━━┓\n",
       "┃\u001b[1m \u001b[0m\u001b[1mLayer (type)                        \u001b[0m\u001b[1m \u001b[0m┃\u001b[1m \u001b[0m\u001b[1mOutput Shape               \u001b[0m\u001b[1m \u001b[0m┃\u001b[1m \u001b[0m\u001b[1m        Param #\u001b[0m\u001b[1m \u001b[0m┃\n",
       "┡━━━━━━━━━━━━━━━━━━━━━━━━━━━━━━━━━━━━━━╇━━━━━━━━━━━━━━━━━━━━━━━━━━━━━╇━━━━━━━━━━━━━━━━━┩\n",
       "│ input_layer (\u001b[38;5;33mInputLayer\u001b[0m)             │ (\u001b[38;5;45mNone\u001b[0m, \u001b[38;5;34m80\u001b[0m)                  │               \u001b[38;5;34m0\u001b[0m │\n",
       "├──────────────────────────────────────┼─────────────────────────────┼─────────────────┤\n",
       "│ embedding (\u001b[38;5;33mEmbedding\u001b[0m)                │ (\u001b[38;5;45mNone\u001b[0m, \u001b[38;5;34m80\u001b[0m, \u001b[38;5;34m80\u001b[0m)              │       \u001b[38;5;34m2,814,320\u001b[0m │\n",
       "├──────────────────────────────────────┼─────────────────────────────┼─────────────────┤\n",
       "│ spatial_dropout1d (\u001b[38;5;33mSpatialDropout1D\u001b[0m) │ (\u001b[38;5;45mNone\u001b[0m, \u001b[38;5;34m80\u001b[0m, \u001b[38;5;34m80\u001b[0m)              │               \u001b[38;5;34m0\u001b[0m │\n",
       "├──────────────────────────────────────┼─────────────────────────────┼─────────────────┤\n",
       "│ bidirectional (\u001b[38;5;33mBidirectional\u001b[0m)        │ (\u001b[38;5;45mNone\u001b[0m, \u001b[38;5;34m80\u001b[0m, \u001b[38;5;34m200\u001b[0m)             │         \u001b[38;5;34m144,800\u001b[0m │\n",
       "├──────────────────────────────────────┼─────────────────────────────┼─────────────────┤\n",
       "│ time_distributed (\u001b[38;5;33mTimeDistributed\u001b[0m)   │ (\u001b[38;5;45mNone\u001b[0m, \u001b[38;5;34m80\u001b[0m, \u001b[38;5;34m17\u001b[0m)              │           \u001b[38;5;34m3,417\u001b[0m │\n",
       "└──────────────────────────────────────┴─────────────────────────────┴─────────────────┘\n"
      ]
     },
     "metadata": {},
     "output_type": "display_data"
    },
    {
     "data": {
      "text/html": [
       "<pre style=\"white-space:pre;overflow-x:auto;line-height:normal;font-family:Menlo,'DejaVu Sans Mono',consolas,'Courier New',monospace\"><span style=\"font-weight: bold\"> Total params: </span><span style=\"color: #00af00; text-decoration-color: #00af00\">2,962,537</span> (11.30 MB)\n",
       "</pre>\n"
      ],
      "text/plain": [
       "\u001b[1m Total params: \u001b[0m\u001b[38;5;34m2,962,537\u001b[0m (11.30 MB)\n"
      ]
     },
     "metadata": {},
     "output_type": "display_data"
    },
    {
     "data": {
      "text/html": [
       "<pre style=\"white-space:pre;overflow-x:auto;line-height:normal;font-family:Menlo,'DejaVu Sans Mono',consolas,'Courier New',monospace\"><span style=\"font-weight: bold\"> Trainable params: </span><span style=\"color: #00af00; text-decoration-color: #00af00\">2,962,537</span> (11.30 MB)\n",
       "</pre>\n"
      ],
      "text/plain": [
       "\u001b[1m Trainable params: \u001b[0m\u001b[38;5;34m2,962,537\u001b[0m (11.30 MB)\n"
      ]
     },
     "metadata": {},
     "output_type": "display_data"
    },
    {
     "data": {
      "text/html": [
       "<pre style=\"white-space:pre;overflow-x:auto;line-height:normal;font-family:Menlo,'DejaVu Sans Mono',consolas,'Courier New',monospace\"><span style=\"font-weight: bold\"> Non-trainable params: </span><span style=\"color: #00af00; text-decoration-color: #00af00\">0</span> (0.00 B)\n",
       "</pre>\n"
      ],
      "text/plain": [
       "\u001b[1m Non-trainable params: \u001b[0m\u001b[38;5;34m0\u001b[0m (0.00 B)\n"
      ]
     },
     "metadata": {},
     "output_type": "display_data"
    }
   ],
   "source": [
    "model.summary()"
   ]
  },
  {
   "cell_type": "code",
   "execution_count": 28,
   "id": "c08c9a39-2503-4a03-8455-25c552fa1710",
   "metadata": {},
   "outputs": [],
   "source": [
    "model.compile(optimizer=\"adam\",loss='categorical_crossentropy',metrics=['accuracy'])\n"
   ]
  },
  {
   "cell_type": "code",
   "execution_count": 30,
   "id": "3bcdc749-24ad-43ad-beeb-4dc63eb0ed3f",
   "metadata": {},
   "outputs": [],
   "source": [
    "from tensorflow.keras.callbacks import ModelCheckpoint,EarlyStopping"
   ]
  },
  {
   "cell_type": "code",
   "execution_count": 31,
   "id": "cd6b07b9-cbc6-49de-b156-784d934982db",
   "metadata": {},
   "outputs": [],
   "source": [
    "from livelossplot.tf_keras import PlotLossesCallback"
   ]
  },
  {
   "cell_type": "code",
   "execution_count": 32,
   "id": "6cf70dcb-786a-4e4a-ac0d-8604a6de50aa",
   "metadata": {},
   "outputs": [],
   "source": [
    "early_stopping=EarlyStopping(monitor='val_accuracy',patience=1,mode='max')"
   ]
  },
  {
   "cell_type": "code",
   "execution_count": 33,
   "id": "ec6fc241-3d27-4788-986a-dc5d2179c246",
   "metadata": {},
   "outputs": [],
   "source": [
    "callbacks=[PlotLossesCallback(),early_stopping]"
   ]
  },
  {
   "cell_type": "code",
   "execution_count": 34,
   "id": "c172709e-3125-4b52-960d-a6322ba8be6f",
   "metadata": {},
   "outputs": [
    {
     "data": {
      "image/png": "[encoded data removed]",
      "text/plain": [
       "<Figure size 1200x800 with 2 Axes>"
      ]
     },
     "metadata": {},
     "output_type": "display_data"
    },
    {
     "name": "stdout",
     "output_type": "stream",
     "text": [
      "accuracy\n",
      "\ttraining         \t (min:    0.963, max:    0.963, cur:    0.963)\n",
      "\tvalidation       \t (min:    0.986, max:    0.986, cur:    0.986)\n",
      "Loss\n",
      "\ttraining         \t (min:    0.153, max:    0.153, cur:    0.153)\n",
      "\tvalidation       \t (min:    0.053, max:    0.053, cur:    0.053)\n",
      "\u001b[1m480/480\u001b[0m \u001b[32m━━━━━━━━━━━━━━━━━━━━\u001b[0m\u001b[37m\u001b[0m \u001b[1m162s\u001b[0m 318ms/step - accuracy: 0.9244 - loss: 0.3267 - val_accuracy: 0.9860 - val_loss: 0.0526\n"
     ]
    }
   ],
   "source": [
    "import numpy as np\n",
    "history = model.fit(\n",
    "    x_train,np.array(y_train),\n",
    "    validation_split = 0.2,\n",
    "    batch_size = 64,\n",
    "    epochs = 1,\n",
    "    verbose = 1,\n",
    "    callbacks=callbacks\n",
    ")"
   ]
  },
  {
   "cell_type": "code",
   "execution_count": 35,
   "id": "c185f430-a150-4a45-a9d5-7795a3c01b1a",
   "metadata": {},
   "outputs": [
    {
     "name": "stdout",
     "output_type": "stream",
     "text": [
      "\u001b[1m300/300\u001b[0m \u001b[32m━━━━━━━━━━━━━━━━━━━━\u001b[0m\u001b[37m\u001b[0m \u001b[1m9s\u001b[0m 30ms/step - accuracy: 0.9855 - loss: 0.0546\n"
     ]
    },
    {
     "data": {
      "text/plain": [
       "[0.05358484014868736, 0.9858110547065735]"
      ]
     },
     "execution_count": 35,
     "metadata": {},
     "output_type": "execute_result"
    }
   ],
   "source": [
    "model.evaluate(x_test,np.array(y_test))"
   ]
  },
  {
   "cell_type": "code",
   "execution_count": null,
   "id": "f1071573-3ab5-4cb3-bada-87046f37e5ec",
   "metadata": {},
   "outputs": [],
   "source": []
  }
 ],
 "metadata": {
  "kernelspec": {
   "display_name": "Python 3 (ipykernel)",
   "language": "python",
   "name": "python3"
  },
  "language_info": {
   "codemirror_mode": {
    "name": "ipython",
    "version": 3
   },
   "file_extension": ".py",
   "mimetype": "text/x-python",
   "name": "python",
   "nbconvert_exporter": "python",
   "pygments_lexer": "ipython3",
   "version": "3.11.7"
  }
 },
 "nbformat": 4,
 "nbformat_minor": 5
}
